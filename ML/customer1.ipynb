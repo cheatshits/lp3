{
  "cells": [
    {
      "cell_type": "markdown",
      "id": "9f0e9e91",
      "metadata": {
        "id": "9f0e9e91"
      },
      "source": [
        "# Implement K-Means clustering/ hierarchical clustering on sales_data_sample.csv dataset. Determine the number of clusters using the elbow method."
      ]
    },
    {
      "cell_type": "code",
      "execution_count": null,
      "id": "bef55cff",
      "metadata": {
        "id": "bef55cff"
      },
      "outputs": [],
      "source": [
        "import pandas as pd\n",
        "import numpy as np\n",
        "import seaborn as sns\n",
        "import matplotlib.pyplot as plt\n",
        "#Importing the required libraries."
      ]
    },
    {
      "cell_type": "code",
      "execution_count": null,
      "id": "ec30055c",
      "metadata": {
        "id": "ec30055c"
      },
      "outputs": [],
      "source": [
        "from sklearn.cluster import KMeans, k_means #For clustering\n",
        "from sklearn.decomposition import PCA #Linear Dimensionality reduction."
      ]
    },
    {
      "cell_type": "code",
      "execution_count": null,
      "id": "d10d9c79",
      "metadata": {
        "id": "d10d9c79"
      },
      "outputs": [],
      "source": [
        "df = pd.read_csv(\"sales_data_sample.csv\") #Loading the dataset."
      ]
    },
    {
      "cell_type": "markdown",
      "id": "1ac686dd",
      "metadata": {
        "id": "1ac686dd"
      },
      "source": [
        "## Preprocessing "
      ]
    },
    {
      "cell_type": "code",
      "execution_count": null,
      "id": "55b84173",
      "metadata": {
        "id": "55b84173",
        "outputId": "b22b82c1-fa87-40dc-9633-08576358a665"
      },
      "outputs": [],
      "source": [
        "df.head()"
      ]
    },
    {
      "cell_type": "code",
      "execution_count": null,
      "id": "b3a3ab08",
      "metadata": {
        "id": "b3a3ab08",
        "outputId": "2763e1c5-73ce-4b2c-f40d-30ca58c5dfcc"
      },
      "outputs": [],
      "source": [
        "df.shape "
      ]
    },
    {
      "cell_type": "code",
      "execution_count": null,
      "id": "6277f051",
      "metadata": {
        "id": "6277f051",
        "outputId": "6081a917-b3ea-4561-fd9b-37f754b0382d",
        "scrolled": true
      },
      "outputs": [],
      "source": [
        "df.describe()"
      ]
    },
    {
      "cell_type": "code",
      "execution_count": null,
      "id": "8a4a5889",
      "metadata": {
        "id": "8a4a5889",
        "outputId": "2414bca8-c0d6-469a-c382-6156fee55132"
      },
      "outputs": [],
      "source": [
        "df.info()"
      ]
    },
    {
      "cell_type": "code",
      "execution_count": null,
      "id": "64870c4e",
      "metadata": {
        "id": "64870c4e",
        "outputId": "d5a2d866-d466-449d-bfbf-9015c394acba"
      },
      "outputs": [],
      "source": [
        "df.isnull().sum()"
      ]
    },
    {
      "cell_type": "code",
      "execution_count": null,
      "id": "a300d986",
      "metadata": {
        "id": "a300d986",
        "outputId": "845fe834-1fdd-48b2-cc5f-bd97c018ad25"
      },
      "outputs": [],
      "source": [
        "df.dtypes"
      ]
    },
    {
      "cell_type": "code",
      "execution_count": null,
      "id": "e528074c",
      "metadata": {
        "id": "e528074c"
      },
      "outputs": [],
      "source": [
        "df_drop  = ['ADDRESSLINE1', 'ADDRESSLINE2', 'STATUS','POSTALCODE', 'CITY', 'TERRITORY', 'PHONE', 'STATE', 'CONTACTFIRSTNAME', 'CONTACTLASTNAME', 'CUSTOMERNAME', 'ORDERNUMBER']\n",
        "df = df.drop(df_drop, axis=1) #Dropping the categorical uneccessary columns along with columns having null values. Can't fill the null values are there are alot of null values."
      ]
    },
    {
      "cell_type": "code",
      "execution_count": null,
      "id": "706186e8",
      "metadata": {
        "id": "706186e8",
        "outputId": "269eb069-f6eb-4383-eb89-13dd3793b8eb"
      },
      "outputs": [],
      "source": [
        "df.isnull().sum()"
      ]
    },
    {
      "cell_type": "code",
      "execution_count": null,
      "id": "04f7008d",
      "metadata": {
        "id": "04f7008d",
        "outputId": "cc38338c-1e58-45c8-f73c-ba63bd6960ee"
      },
      "outputs": [],
      "source": [
        "df.dtypes"
      ]
    },
    {
      "cell_type": "code",
      "execution_count": null,
      "id": "43df8ebf",
      "metadata": {
        "id": "43df8ebf"
      },
      "outputs": [],
      "source": [
        "# Checking the categorical columns."
      ]
    },
    {
      "cell_type": "code",
      "execution_count": null,
      "id": "52ce93af",
      "metadata": {
        "id": "52ce93af",
        "outputId": "d9a253ed-1937-4b66-c81f-c9122cc2b878"
      },
      "outputs": [],
      "source": [
        "df['COUNTRY'].unique()"
      ]
    },
    {
      "cell_type": "code",
      "execution_count": null,
      "id": "b42c0cab",
      "metadata": {
        "id": "b42c0cab",
        "outputId": "74500d57-73e2-407d-8ae0-4f571f5760f7",
        "scrolled": true
      },
      "outputs": [],
      "source": [
        "df['PRODUCTLINE'].unique()"
      ]
    },
    {
      "cell_type": "code",
      "execution_count": null,
      "id": "ec0bff39",
      "metadata": {
        "id": "ec0bff39",
        "outputId": "b3468b0d-af7b-4346-dd38-3d3a710a3207"
      },
      "outputs": [],
      "source": [
        "df['DEALSIZE'].unique()"
      ]
    },
    {
      "cell_type": "code",
      "execution_count": null,
      "id": "e9213772",
      "metadata": {
        "id": "e9213772"
      },
      "outputs": [],
      "source": [
        "productline = pd.get_dummies(df['PRODUCTLINE']) #Converting the categorical columns. \n",
        "Dealsize = pd.get_dummies(df['DEALSIZE'])"
      ]
    },
    {
      "cell_type": "code",
      "execution_count": null,
      "id": "9c544217",
      "metadata": {
        "id": "9c544217"
      },
      "outputs": [],
      "source": [
        "df = pd.concat([df,productline,Dealsize], axis = 1)"
      ]
    },
    {
      "cell_type": "code",
      "execution_count": null,
      "id": "97607aa7",
      "metadata": {
        "id": "97607aa7"
      },
      "outputs": [],
      "source": [
        "df_drop  = ['COUNTRY','PRODUCTLINE','DEALSIZE'] #Dropping Country too as there are alot of countries. \n",
        "df = df.drop(df_drop, axis=1)"
      ]
    },
    {
      "cell_type": "code",
      "execution_count": null,
      "id": "4c4d7661",
      "metadata": {
        "id": "4c4d7661"
      },
      "outputs": [],
      "source": [
        "df['PRODUCTCODE'] = pd.Categorical(df['PRODUCTCODE']).codes #Converting the datatype."
      ]
    },
    {
      "cell_type": "code",
      "execution_count": null,
      "id": "f02982d2",
      "metadata": {
        "id": "f02982d2"
      },
      "outputs": [],
      "source": [
        "df.drop('ORDERDATE', axis=1, inplace=True) #Dropping the Orderdate as Month is already included."
      ]
    },
    {
      "cell_type": "code",
      "execution_count": null,
      "id": "2d45026a",
      "metadata": {
        "id": "2d45026a",
        "outputId": "70ef53aa-702d-4253-ab53-97ea812f1a0f"
      },
      "outputs": [],
      "source": [
        "df.dtypes #All the datatypes are converted into numeric"
      ]
    },
    {
      "cell_type": "markdown",
      "id": "82de4523",
      "metadata": {
        "id": "82de4523"
      },
      "source": [
        "## Plotting the Elbow Plot to determine the number of clusters. "
      ]
    },
    {
      "cell_type": "code",
      "execution_count": null,
      "id": "850e9f13",
      "metadata": {
        "id": "850e9f13"
      },
      "outputs": [],
      "source": [
        "distortions = [] # Within Cluster Sum of Squares from the centroid\n",
        "K = range(1,10)\n",
        "for k in K:\n",
        "    kmeanModel = KMeans(n_clusters=k)\n",
        "    kmeanModel.fit(df)\n",
        "    distortions.append(kmeanModel.inertia_)   #Appeding the intertia to the Distortions "
      ]
    },
    {
      "cell_type": "code",
      "execution_count": null,
      "id": "323c454d",
      "metadata": {
        "id": "323c454d",
        "outputId": "7d3aa340-6ca0-439f-8e53-28c1ed1fc00c"
      },
      "outputs": [],
      "source": [
        "plt.figure(figsize=(16,8))\n",
        "plt.plot(K, distortions, 'bx-')\n",
        "plt.xlabel('k')\n",
        "plt.ylabel('Distortion')\n",
        "plt.title('The Elbow Method showing the optimal k')\n",
        "plt.show()"
      ]
    },
    {
      "cell_type": "markdown",
      "id": "c9ad3a2d",
      "metadata": {
        "id": "c9ad3a2d"
      },
      "source": [
        "## As the number of k increases Inertia decreases. \n",
        "## Observations: A Elbow can be observed at 3 and after that the curve decreases gradually. "
      ]
    },
    {
      "cell_type": "code",
      "execution_count": null,
      "id": "1b61b519",
      "metadata": {
        "id": "1b61b519"
      },
      "outputs": [],
      "source": [
        "X_train = df.values #Returns a numpy array."
      ]
    },
    {
      "cell_type": "code",
      "execution_count": null,
      "id": "c94cb45f",
      "metadata": {
        "id": "c94cb45f",
        "outputId": "5c0e6df1-4c60-4a69-9a13-0a7d72baa701"
      },
      "outputs": [],
      "source": [
        "X_train.shape"
      ]
    },
    {
      "cell_type": "code",
      "execution_count": null,
      "id": "c1b66585",
      "metadata": {
        "id": "c1b66585"
      },
      "outputs": [],
      "source": [
        "model = KMeans(n_clusters=3,random_state=2) #Number of cluster = 3\n",
        "model = model.fit(X_train) #Fitting the values to create a model.\n",
        "predictions = model.predict(X_train) #Predicting the cluster values (0,1,or 2)"
      ]
    },
    {
      "cell_type": "code",
      "execution_count": null,
      "id": "0740f489",
      "metadata": {
        "id": "0740f489"
      },
      "outputs": [],
      "source": [
        "unique,counts = np.unique(predictions,return_counts=True)"
      ]
    },
    {
      "cell_type": "code",
      "execution_count": null,
      "id": "a3b00ded",
      "metadata": {
        "id": "a3b00ded"
      },
      "outputs": [],
      "source": [
        "counts = counts.reshape(1,3)"
      ]
    },
    {
      "cell_type": "code",
      "execution_count": null,
      "id": "98680f65",
      "metadata": {
        "id": "98680f65"
      },
      "outputs": [],
      "source": [
        "counts_df = pd.DataFrame(counts,columns=['Cluster1','Cluster2','Cluster3'])"
      ]
    },
    {
      "cell_type": "code",
      "execution_count": null,
      "id": "6550f668",
      "metadata": {
        "id": "6550f668",
        "outputId": "28fb8f27-cbda-405c-b459-07a65990e461"
      },
      "outputs": [],
      "source": [
        "counts_df.head()"
      ]
    },
    {
      "cell_type": "markdown",
      "id": "8e04e87f",
      "metadata": {
        "id": "8e04e87f"
      },
      "source": [
        "## Visualization "
      ]
    },
    {
      "cell_type": "code",
      "execution_count": null,
      "id": "670a0f24",
      "metadata": {
        "id": "670a0f24"
      },
      "outputs": [],
      "source": [
        "pca = PCA(n_components=2) #Converting all the features into 2 columns to make it easy to visualize using Principal COmponent Analysis."
      ]
    },
    {
      "cell_type": "code",
      "execution_count": null,
      "id": "9f298beb",
      "metadata": {
        "id": "9f298beb"
      },
      "outputs": [],
      "source": [
        "reduced_X = pd.DataFrame(pca.fit_transform(X_train),columns=['PCA1','PCA2']) #Creating a DataFrame."
      ]
    },
    {
      "cell_type": "code",
      "execution_count": null,
      "id": "f526a136",
      "metadata": {
        "id": "f526a136",
        "outputId": "09388e25-1cdf-4371-b66b-f169c551be89"
      },
      "outputs": [],
      "source": [
        "reduced_X.head()"
      ]
    },
    {
      "cell_type": "code",
      "execution_count": null,
      "id": "d49ec734",
      "metadata": {
        "id": "d49ec734",
        "outputId": "5584f02c-f187-4bb4-c8c7-e989b3d095d1"
      },
      "outputs": [],
      "source": [
        "#Plotting the normal Scatter Plot\n",
        "plt.figure(figsize=(14,10))\n",
        "plt.scatter(reduced_X['PCA1'],reduced_X['PCA2'])"
      ]
    },
    {
      "cell_type": "code",
      "execution_count": null,
      "id": "a1babe44",
      "metadata": {
        "id": "a1babe44",
        "outputId": "835fa31a-3fd1-40b4-dd26-38af92e83b51"
      },
      "outputs": [],
      "source": [
        "model.cluster_centers_ #Finding the centriods. (3 Centriods in total. Each Array contains a centroids for particular feature )"
      ]
    },
    {
      "cell_type": "code",
      "execution_count": null,
      "id": "b5263150",
      "metadata": {
        "id": "b5263150"
      },
      "outputs": [],
      "source": [
        "reduced_centers = pca.transform(model.cluster_centers_) #Transforming the centroids into 3 in x and y coordinates"
      ]
    },
    {
      "cell_type": "code",
      "execution_count": null,
      "id": "39f26484",
      "metadata": {
        "id": "39f26484",
        "outputId": "28db8f55-d95e-47e1-898e-afe2425ef966"
      },
      "outputs": [],
      "source": [
        "reduced_centers"
      ]
    },
    {
      "cell_type": "code",
      "execution_count": null,
      "id": "05c306fe",
      "metadata": {
        "id": "05c306fe",
        "outputId": "de68abc3-b587-4bcd-87ef-d8818466b275"
      },
      "outputs": [],
      "source": [
        "plt.figure(figsize=(14,10))\n",
        "plt.scatter(reduced_X['PCA1'],reduced_X['PCA2'])\n",
        "plt.scatter(reduced_centers[:,0],reduced_centers[:,1],color='black',marker='x',s=300) #Plotting the centriods"
      ]
    },
    {
      "cell_type": "code",
      "execution_count": null,
      "id": "0e5583a0",
      "metadata": {
        "id": "0e5583a0"
      },
      "outputs": [],
      "source": [
        "reduced_X['Clusters'] = predictions #Adding the Clusters to the reduced dataframe."
      ]
    },
    {
      "cell_type": "code",
      "execution_count": null,
      "id": "e60df3dd",
      "metadata": {
        "id": "e60df3dd",
        "outputId": "e1a942cc-0cd2-4225-c9a4-283adadeb02a"
      },
      "outputs": [],
      "source": [
        "reduced_X.head()"
      ]
    },
    {
      "cell_type": "code",
      "execution_count": null,
      "id": "6133cf11",
      "metadata": {
        "id": "6133cf11",
        "outputId": "6ad95d22-d5e2-4f62-886b-a65018a94093"
      },
      "outputs": [],
      "source": [
        "#Plotting the clusters \n",
        "plt.figure(figsize=(14,10))\n",
        "#                     taking the cluster number and first column           taking the same cluster number and second column      Assigning the color\n",
        "plt.scatter(reduced_X[reduced_X['Clusters'] == 0].loc[:,'PCA1'],reduced_X[reduced_X['Clusters'] == 0].loc[:,'PCA2'],color='slateblue')\n",
        "plt.scatter(reduced_X[reduced_X['Clusters'] == 1].loc[:,'PCA1'],reduced_X[reduced_X['Clusters'] == 1].loc[:,'PCA2'],color='springgreen')\n",
        "plt.scatter(reduced_X[reduced_X['Clusters'] == 2].loc[:,'PCA1'],reduced_X[reduced_X['Clusters'] == 2].loc[:,'PCA2'],color='indigo')\n",
        "\n",
        "\n",
        "plt.scatter(reduced_centers[:,0],reduced_centers[:,1],color='black',marker='x',s=300)"
      ]
    },
    {
      "cell_type": "code",
      "execution_count": null,
      "id": "13e992c1",
      "metadata": {
        "id": "13e992c1"
      },
      "outputs": [],
      "source": []
    }
  ],
  "metadata": {
    "colab": {
      "provenance": []
    },
    "kernelspec": {
      "display_name": "Python 3",
      "language": "python",
      "name": "python3"
    },
    "language_info": {
      "codemirror_mode": {
        "name": "ipython",
        "version": 3
      },
      "file_extension": ".py",
      "mimetype": "text/x-python",
      "name": "python",
      "nbconvert_exporter": "python",
      "pygments_lexer": "ipython3",
      "version": "3.8.8"
    }
  },
  "nbformat": 4,
  "nbformat_minor": 5
}
